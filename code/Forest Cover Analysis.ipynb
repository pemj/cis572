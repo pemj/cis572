{
 "cells": [
  {
   "cell_type": "markdown",
   "metadata": {},
   "source": [
    "## Import libraries!"
   ]
  },
  {
   "cell_type": "code",
   "execution_count": 1,
   "metadata": {
    "collapsed": false
   },
   "outputs": [],
   "source": [
    "import pandas as pd\n",
    "import numpy as np\n",
    "\n",
    "import matplotlib.pyplot as plt\n",
    "%matplotlib inline\n",
    "\n",
    "from sklearn.ensemble import RandomForestClassifier\n",
    "from sklearn.ensemble import GradientBoostingClassifier\n",
    "from sklearn.naive_bayes import GaussianNB\n",
    "from sklearn.metrics import accuracy_score\n",
    "from sklearn import svm\n"
   ]
  },
  {
   "cell_type": "code",
   "execution_count": 2,
   "metadata": {
    "collapsed": false
   },
   "outputs": [],
   "source": [
    "## Testing answers\n",
    "#result = pd.read_csv('output.csv')\n",
    "#answers = pd.read_csv('../data/covtype.data')\n",
    "\n",
    "#test_answers = answers.ix[len(answers.index) - len(result.index):,:]\n",
    "#len(test_answers.index)\n",
    "#result2 = pd.read_csv('submission.csv')\n",
    "#accuracy_score(result2[\"Cover_Type\"], test_answers.ix[:,len(test_answers.columns) - 1])"
   ]
  },
  {
   "cell_type": "markdown",
   "metadata": {},
   "source": [
    "## Load data"
   ]
  },
  {
   "cell_type": "code",
   "execution_count": 3,
   "metadata": {
    "collapsed": false
   },
   "outputs": [
    {
     "ename": "AttributeError",
     "evalue": "'DataFrame' object has no attribute 'Aspect'",
     "output_type": "error",
     "traceback": [
      "\u001b[1;31m---------------------------------------------------------------------------\u001b[0m",
      "\u001b[1;31mAttributeError\u001b[0m                            Traceback (most recent call last)",
      "\u001b[1;32m<ipython-input-3-55fab56da2dc>\u001b[0m in \u001b[0;36m<module>\u001b[1;34m()\u001b[0m\n\u001b[0;32m     23\u001b[0m \u001b[0mtest\u001b[0m\u001b[1;33m[\u001b[0m\u001b[1;34m'Id'\u001b[0m\u001b[1;33m]\u001b[0m \u001b[1;33m=\u001b[0m \u001b[0mrange\u001b[0m\u001b[1;33m(\u001b[0m\u001b[1;36m1\u001b[0m\u001b[1;33m,\u001b[0m \u001b[0mlen\u001b[0m\u001b[1;33m(\u001b[0m\u001b[0mtest\u001b[0m\u001b[1;33m)\u001b[0m\u001b[1;33m+\u001b[0m\u001b[1;36m1\u001b[0m\u001b[1;33m)\u001b[0m\u001b[1;33m\u001b[0m\u001b[0m\n\u001b[0;32m     24\u001b[0m \u001b[0mtest\u001b[0m\u001b[1;33m[\u001b[0m\u001b[1;34m'is_train'\u001b[0m\u001b[1;33m]\u001b[0m \u001b[1;33m=\u001b[0m \u001b[1;32mFalse\u001b[0m\u001b[1;33m\u001b[0m\u001b[0m\n\u001b[1;32m---> 25\u001b[1;33m \u001b[0mtest\u001b[0m\u001b[1;33m[\u001b[0m\u001b[1;34m'Aspect2'\u001b[0m\u001b[1;33m]\u001b[0m \u001b[1;33m=\u001b[0m \u001b[0mtest\u001b[0m\u001b[1;33m.\u001b[0m\u001b[0mAspect\u001b[0m\u001b[1;33m.\u001b[0m\u001b[0mmap\u001b[0m\u001b[1;33m(\u001b[0m\u001b[0mr\u001b[0m\u001b[1;33m)\u001b[0m\u001b[1;33m\u001b[0m\u001b[0m\n\u001b[0m\u001b[0;32m     26\u001b[0m \u001b[0mtest\u001b[0m\u001b[1;33m.\u001b[0m\u001b[0mix\u001b[0m\u001b[1;33m[\u001b[0m\u001b[0mtest\u001b[0m\u001b[1;33m.\u001b[0m\u001b[0mHillshade_3pm\u001b[0m\u001b[1;33m==\u001b[0m\u001b[1;36m0\u001b[0m\u001b[1;33m,\u001b[0m \u001b[1;34m'Hillshade_3pm'\u001b[0m\u001b[1;33m]\u001b[0m \u001b[1;33m=\u001b[0m \u001b[0mtest\u001b[0m\u001b[1;33m.\u001b[0m\u001b[0mHillshade_3pm\u001b[0m\u001b[1;33m.\u001b[0m\u001b[0mmedian\u001b[0m\u001b[1;33m(\u001b[0m\u001b[1;33m)\u001b[0m\u001b[1;33m\u001b[0m\u001b[0m\n\u001b[0;32m     27\u001b[0m \u001b[0mtest\u001b[0m\u001b[1;33m[\u001b[0m\u001b[1;34m'is_train'\u001b[0m\u001b[1;33m]\u001b[0m \u001b[1;33m=\u001b[0m \u001b[1;32mFalse\u001b[0m\u001b[1;33m\u001b[0m\u001b[0m\n",
      "\u001b[1;32mC:\\Program Files (x86)\\Python34\\lib\\site-packages\\pandas\\core\\generic.py\u001b[0m in \u001b[0;36m__getattr__\u001b[1;34m(self, name)\u001b[0m\n\u001b[0;32m   1945\u001b[0m                 \u001b[1;32mreturn\u001b[0m \u001b[0mself\u001b[0m\u001b[1;33m[\u001b[0m\u001b[0mname\u001b[0m\u001b[1;33m]\u001b[0m\u001b[1;33m\u001b[0m\u001b[0m\n\u001b[0;32m   1946\u001b[0m             raise AttributeError(\"'%s' object has no attribute '%s'\" %\n\u001b[1;32m-> 1947\u001b[1;33m                                  (type(self).__name__, name))\n\u001b[0m\u001b[0;32m   1948\u001b[0m \u001b[1;33m\u001b[0m\u001b[0m\n\u001b[0;32m   1949\u001b[0m     \u001b[1;32mdef\u001b[0m \u001b[0m__setattr__\u001b[0m\u001b[1;33m(\u001b[0m\u001b[0mself\u001b[0m\u001b[1;33m,\u001b[0m \u001b[0mname\u001b[0m\u001b[1;33m,\u001b[0m \u001b[0mvalue\u001b[0m\u001b[1;33m)\u001b[0m\u001b[1;33m:\u001b[0m\u001b[1;33m\u001b[0m\u001b[0m\n",
      "\u001b[1;31mAttributeError\u001b[0m: 'DataFrame' object has no attribute 'Aspect'"
     ]
    }
   ],
   "source": [
    "df = pd.read_csv('../data/train.csv')\n",
    "df['EVDtH'] = df.Elevation-df.Vertical_Distance_To_Hydrology\n",
    "df['EHDtH'] = df.Elevation-df.Horizontal_Distance_To_Hydrology*0.2\n",
    "df['Highwater'] = df.Vertical_Distance_To_Hydrology < 0\n",
    "\n",
    "def zF(x, y):\n",
    "    if x == 0:\n",
    "        return y\n",
    "    else:\n",
    "        return x\n",
    "def r(x):\n",
    "    if x+180>360:\n",
    "        return x-180\n",
    "    else:\n",
    "        return x+180\n",
    "\n",
    "df['Aspect2'] = df.Aspect.map(r)\n",
    "df.ix[df.Hillshade_3pm==0, 'Hillshade_3pm'] = df.Hillshade_3pm.median()\n",
    "df['is_train'] = np.random.uniform(0, 1, len(df)) <= .75\n",
    "train, validation = df[df['is_train']==True], df[df['is_train']==False]\n",
    "one_two = df[(df['Cover_Type']<3)] \n",
    "test = pd.read_csv('../data/covtype.data')\n",
    "test['Id'] = range(1, len(test)+1)\n",
    "test['is_train'] = False\n",
    "test['Aspect2'] = test.Aspect.map(r)\n",
    "test.ix[test.Hillshade_3pm==0, 'Hillshade_3pm'] = test.Hillshade_3pm.median()\n",
    "test['is_train'] = False\n",
    "test['EVDtH'] = test.Elevation-test.Vertical_Distance_To_Hydrology\n",
    "test['EHDtH'] = test.Elevation-test.Horizontal_Distance_To_Hydrology*0.2\n",
    "test['Highwater'] = test.Vertical_Distance_To_Hydrology < 0"
   ]
  },
  {
   "cell_type": "markdown",
   "metadata": {},
   "source": [
    "## Graphing continuous input variables"
   ]
  },
  {
   "cell_type": "code",
   "execution_count": null,
   "metadata": {
    "collapsed": false
   },
   "outputs": [],
   "source": [
    "#list(train.columns.values[1:11])\n",
    "fig = plt.figure(figsize=(14,12))\n",
    "\n",
    "color_list = plt.cm.get_cmap(\"gist_ncar\", 7)\n",
    "\n",
    "for i in range(1, 11):\n",
    "    y_split_sets = []\n",
    "    for j in range(1,8):\n",
    "        y_split_sets.append(train[train['Cover_Type']==j].ix[:,i])\n",
    "\n",
    "    ax = fig.add_subplot(5,2,i)\n",
    "    plt.hist(y_split_sets, 25, stacked=True, label=[\"Cover type \"+str(i) for i in range(1,8)], color=color_list(np.arange(7)))\n",
    "    plt.xlabel(train.columns.values[i])\n",
    "    if(i==2):\n",
    "        patches, labels = ax.get_legend_handles_labels()\n",
    "        plt.legend(patches, labels, bbox_to_anchor=(1.05, 1), loc=2, borderaxespad=0.)\n",
    "    \n",
    "\n",
    "plt.tight_layout(pad=0.4, w_pad=0.5, h_pad=1.0)\n",
    "plt.show()"
   ]
  },
  {
   "cell_type": "markdown",
   "metadata": {},
   "source": [
    "## Soil Types Graph"
   ]
  },
  {
   "cell_type": "code",
   "execution_count": null,
   "metadata": {
    "collapsed": false
   },
   "outputs": [],
   "source": [
    "soil_cols = [a for a in list(train.columns.values) if a[:4] == \"Soil\"]\n",
    "\n",
    "table = train.groupby(\"Cover_Type\").sum()[soil_cols]\n",
    "\n",
    "table.plot(kind='bar', stacked=True, legend=False, colormap=\"gist_rainbow\", figsize=(12, 6))\n",
    "plt.show()"
   ]
  },
  {
   "cell_type": "markdown",
   "metadata": {},
   "source": [
    "## Wilderness Areas Graph"
   ]
  },
  {
   "cell_type": "code",
   "execution_count": null,
   "metadata": {
    "collapsed": false
   },
   "outputs": [],
   "source": [
    "wa_cols = [a for a in list(train.columns.values) if a[:15] == \"Wilderness_Area\"]\n",
    "\n",
    "table = train.groupby(\"Cover_Type\").sum()[wa_cols]\n",
    "ax = table.plot(kind='bar', legend=False, stacked=True, colormap=\"RdYlGn\", figsize=(12, 6))\n",
    "\n",
    "patches, labels = ax.get_legend_handles_labels()\n",
    "ax.legend(patches, labels, loc='center left', bbox_to_anchor=(1.02, 0.8))"
   ]
  },
  {
   "cell_type": "markdown",
   "metadata": {},
   "source": [
    "## Feature engineering"
   ]
  },
  {
   "cell_type": "code",
   "execution_count": null,
   "metadata": {
    "collapsed": false
   },
   "outputs": [],
   "source": [
    "features = [col for col in train.columns if col not in ['Cover_Type','Id','is_train']]\n",
    "\n",
    "X_train = train[features]\n",
    "X_validation = validation[features]\n",
    "y_training = train['Cover_Type']\n",
    "y_validation = validation['Cover_Type']\n",
    "y_one = one_two['Cover_Type']\n",
    "x_one = one_two[features]\n",
    "x_test = test[features]\n",
    "y_test = test['Cover_Type']"
   ]
  },
  {
   "cell_type": "markdown",
   "metadata": {
    "collapsed": true
   },
   "source": [
    "## Random Forest Test"
   ]
  },
  {
   "cell_type": "code",
   "execution_count": null,
   "metadata": {
    "collapsed": false
   },
   "outputs": [],
   "source": [
    "clf = RandomForestClassifier()\n",
    "clf.fit(X_train, y_training)\n",
    "pd.Series([\n",
    "        accuracy_score(y_training, clf.predict(X_train)),\n",
    "        accuracy_score(y_validation, clf.predict(X_validation))\n",
    "    ], index=[\"Training accuracy\", \"Test accuracy\"])\n",
    "\n",
    "\n"
   ]
  },
  {
   "cell_type": "code",
   "execution_count": null,
   "metadata": {
    "collapsed": false
   },
   "outputs": [],
   "source": [
    "from sklearn.metrics import confusion_matrix\n",
    "cm = confusion_matrix(y_validation, clf.predict(X_validation))\n",
    "print(cm)\n",
    "plt.matshow(cm)\n",
    "plt.title('Confusion matrix')\n",
    "plt.colorbar()\n",
    "plt.ylabel('True label')\n",
    "plt.xlabel('Predicted label')\n",
    "plt.show()"
   ]
  },
  {
   "cell_type": "markdown",
   "metadata": {},
   "source": [
    "## Naive Bayes Test"
   ]
  },
  {
   "cell_type": "code",
   "execution_count": null,
   "metadata": {
    "collapsed": false
   },
   "outputs": [],
   "source": [
    "gnb = GaussianNB()\n",
    "gnb_fitted = gnb.fit(train[features], y_training)\n",
    "pd.Series([\n",
    "        accuracy_score(y_training, gnb_fitted.predict(train[features])),\n",
    "        accuracy_score(y_validation, gnb_fitted.predict(validation[features]))\n",
    "   ], index=[\"Training accuracy\", \"Test accuracy\"])\n",
    "\n",
    "\n"
   ]
  },
  {
   "cell_type": "code",
   "execution_count": null,
   "metadata": {
    "collapsed": false
   },
   "outputs": [],
   "source": [
    "rt = .36\n",
    "md = 5\n",
    "ne = 400\n",
    "mf = None\n",
    "gbm = GradientBoostingClassifier(learning_rate=rt, max_depth=md, n_estimators=ne, max_features=mf)\n",
    "gbm.fit(X_train, y_training)\n",
    "pd.Series([\n",
    "        accuracy_score(y_training, gbm.predict(X_train)),\n",
    "        accuracy_score(y_validation, gbm.predict(X_validation))\n",
    "    ], index=[\"Training accuracy\", \"Test accuracy\"])\n",
    "\n",
    "\n"
   ]
  },
  {
   "cell_type": "code",
   "execution_count": null,
   "metadata": {
    "collapsed": false
   },
   "outputs": [],
   "source": [
    "pd.DataFrame(clf.feature_importances_,index=X_train.columns).sort([0], ascending=False) "
   ]
  },
  {
   "cell_type": "code",
   "execution_count": null,
   "metadata": {
    "collapsed": false
   },
   "outputs": [],
   "source": [
    "from sklearn.neighbors import KNeighborsClassifier\n",
    "from sklearn.preprocessing import StandardScaler\n",
    "\n",
    "scaler = StandardScaler()\n",
    "scaled_train = scaler.fit_transform(X_train.astype(np.float))\n",
    "scaled_validation = scaler.transform(X_validation.astype(np.float))\n",
    "\n",
    "scaled_train = pd.DataFrame(scaled_train, columns=features)\n",
    "scaled_validation = pd.DataFrame(scaled_validation, columns=features)\n",
    "\n",
    "feature_importances = []\n",
    "for i in range(0, len(clf.feature_importances_)):\n",
    "    feature_importances.append((clf.feature_importances_[i] + 0.005)*5)\n",
    "\n",
    "col_index = 0\n",
    "for col in features:\n",
    "    scaled_train[col] = scaled_train[col]*feature_importances[col_index]\n",
    "    scaled_validation[col] = scaled_validation[col]*feature_importances[col_index]\n",
    "    col_index += 1\n",
    "\n",
    "neighbor = KNeighborsClassifier(n_neighbors=5) #weights=\"distance\"\n",
    "neighbor_fitted = neighbor.fit(scaled_train, y_training)\n",
    "pd.Series([\n",
    "        accuracy_score(y_training, neighbor_fitted.predict(scaled_train)),\n",
    "        accuracy_score(y_validation, neighbor_fitted.predict(scaled_validation))\n",
    "    ], index=[\"Training accuracy\", \"Test accuracy\"])\n"
   ]
  },
  {
   "cell_type": "code",
   "execution_count": null,
   "metadata": {
    "collapsed": false
   },
   "outputs": [],
   "source": [
    "scaler = StandardScaler()\n",
    "scaled_train2 = scaler.fit_transform(X_train.astype(np.float))\n",
    "scaled_validation2 = scaler.transform(X_validation.astype(np.float))\n",
    "\n",
    "scaled_train2 = pd.DataFrame(scaled_train2, columns=features)\n",
    "scaled_validation2 = pd.DataFrame(scaled_validation2, columns=features)\n",
    "\n",
    "rbf_svc = svm.SVC(C=1500, kernel=\"rbf\", max_iter=-1) #5.5, 200\n",
    "svm_fitted = rbf_svc.fit(scaled_train2, y_training)\n",
    "pd.Series([\n",
    "   accuracy_score(y_training, svm_fitted.predict(scaled_train2)),\n",
    "   accuracy_score(y_validation, svm_fitted.predict(scaled_validation2))\n",
    " ], index=[\"Training accuracy\", \"Test accuracy\"])\n",
    "      "
   ]
  },
  {
   "cell_type": "code",
   "execution_count": null,
   "metadata": {
    "collapsed": false
   },
   "outputs": [],
   "source": [
    "svm_predict = svm_fitted.predict(scaled_validation2)\n",
    "gbm_predict = gbm.predict(X_validation)\n",
    "nn_predict = neighbor_fitted.predict(scaled_validation)\n",
    "ot_predict = clf.fit(x_one, y_one).predict(X_validation)\n",
    "voted_predict = []\n",
    "for i in range(0,len(svm_predict)):\n",
    "    a = np.array([svm_predict[i], nn_predict[i], gbm_predict[i]])\n",
    "    (values,counts) = np.unique(a,return_counts=True)\n",
    "    ind=np.argmax(counts)\n",
    "    ret = values[ind]\n",
    "    if ret==1 or ret==2:\n",
    "        ret = ot_predict[i]\n",
    "    voted_predict.append(ret)\n",
    "\n",
    "accuracy_score(y_validation, voted_predict)"
   ]
  },
  {
   "cell_type": "code",
   "execution_count": null,
   "metadata": {
    "collapsed": false
   },
   "outputs": [],
   "source": [
    "cm = confusion_matrix(y_validation, voted_predict)\n",
    "print(cm)\n",
    "plt.matshow(cm)\n",
    "plt.colorbar()\n",
    "plt.ylabel('True label')\n",
    "plt.xlabel('Predicted label')\n",
    "plt.show()"
   ]
  },
  {
   "cell_type": "code",
   "execution_count": null,
   "metadata": {
    "collapsed": true
   },
   "outputs": [],
   "source": []
  },
  {
   "cell_type": "code",
   "execution_count": null,
   "metadata": {
    "collapsed": true
   },
   "outputs": [],
   "source": []
  }
 ],
 "metadata": {
  "kernelspec": {
   "display_name": "Python 3",
   "language": "python",
   "name": "python3"
  },
  "language_info": {
   "codemirror_mode": {
    "name": "ipython",
    "version": 3
   },
   "file_extension": ".py",
   "mimetype": "text/x-python",
   "name": "python",
   "nbconvert_exporter": "python",
   "pygments_lexer": "ipython3",
   "version": "3.4.2"
  }
 },
 "nbformat": 4,
 "nbformat_minor": 0
}
